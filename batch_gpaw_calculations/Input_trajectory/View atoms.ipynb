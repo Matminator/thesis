{
 "cells": [
  {
   "cell_type": "code",
   "execution_count": 3,
   "id": "38a827fa",
   "metadata": {},
   "outputs": [
    {
     "data": {
      "text/plain": [
       "450"
      ]
     },
     "execution_count": 3,
     "metadata": {},
     "output_type": "execute_result"
    }
   ],
   "source": [
    "\n",
    "import ase\n",
    "from ase.io.trajectory import Trajectory\n",
    "from ase.visualize import view\n",
    "\n",
    "\n",
    "view(Trajectory('combined.traj'))\n",
    "\n",
    "len(Trajectory('combined.traj'))"
   ]
  }
 ],
 "metadata": {
  "kernelspec": {
   "display_name": "Python 3 (ipykernel)",
   "language": "python",
   "name": "python3"
  },
  "language_info": {
   "codemirror_mode": {
    "name": "ipython",
    "version": 3
   },
   "file_extension": ".py",
   "mimetype": "text/x-python",
   "name": "python",
   "nbconvert_exporter": "python",
   "pygments_lexer": "ipython3",
   "version": "3.8.6"
  }
 },
 "nbformat": 4,
 "nbformat_minor": 5
}
